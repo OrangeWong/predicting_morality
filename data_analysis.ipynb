{
 "cells": [
  {
   "cell_type": "markdown",
   "metadata": {},
   "source": [
    "# Data analysis\n",
    "\n",
    "The aim of this notebook is to predict the in hospital death in ICU visit based on the first 24 hours of ICU stay data."
   ]
  },
  {
   "cell_type": "code",
   "execution_count": 15,
   "metadata": {
    "collapsed": true
   },
   "outputs": [],
   "source": [
    "# Import libraries\n",
    "import numpy as np\n",
    "import pandas as pd\n",
    "import matplotlib.pyplot as plt\n",
    "from scipy.spatial import distance\n",
    "import seaborn as sns\n",
    "import urllib.request\n",
    "import zipfile\n",
    "import os\n",
    "from time import time\n",
    "\n",
    "# custom py files\n",
    "import dtw\n",
    "import KNN\n",
    "import visuals as vs\n",
    "\n",
    "# for pretty printing pandas dataframes\n",
    "from IPython.display import display, HTML\n",
    "\n",
    "%matplotlib inline\n",
    "plt.style.use('seaborn-notebook')"
   ]
  },
  {
   "cell_type": "markdown",
   "metadata": {},
   "source": [
    "## Download the data"
   ]
  },
  {
   "cell_type": "code",
   "execution_count": 2,
   "metadata": {
    "collapsed": true
   },
   "outputs": [],
   "source": [
    "# generate a data folder, we store all data in this folder\n",
    "if not os.path.exists('data'):\n",
    "    os.makedirs('data')\n",
    "    \n",
    "# download and unzip the rawdata\n",
    "url = 'https://api.onedrive.com/v1.0/shares/u!aHR0cHM6Ly8xZHJ2Lm1zL3UvcyFBdk96S3k0djAydHpndFU0OGphUW9DMU5QR1VOTGc/root/content'\n",
    "urllib.request.urlretrieve(url, \"download.zip\")\n",
    "\n",
    "with zipfile.ZipFile(\"download.zip\",\"r\") as zip_ref:\n",
    "    zip_ref.extractall(\"data\")  "
   ]
  },
  {
   "cell_type": "markdown",
   "metadata": {},
   "source": [
    "## Functions "
   ]
  },
  {
   "cell_type": "code",
   "execution_count": 3,
   "metadata": {
    "collapsed": true
   },
   "outputs": [],
   "source": [
    "def get_path(filename, suffix):\n",
    "    \"\"\"\n",
    "    Return the path of the file.\n",
    "    \n",
    "    iuputs:\n",
    "      - filename: string that points the file\n",
    "      - suffic: string that indicates the file format\n",
    "    \"\"\"\n",
    "    cwd = os.getcwd()\n",
    "    dir_name = os.path.join(cwd, 'data')\n",
    "    return os.path.join(dir_name, filename + \".\" + suffix)   "
   ]
  },
  {
   "cell_type": "markdown",
   "metadata": {},
   "source": [
    "## Load the data\n",
    "These are train, valid, and test data, and all of them are loaded into a dictionary named 'data'. \n",
    "The multi-index represents two dimensions, patient id and time."
   ]
  },
  {
   "cell_type": "code",
   "execution_count": 4,
   "metadata": {
    "collapsed": true
   },
   "outputs": [],
   "source": [
    "names = ['X_train', 'X_test', 'y_train', 'y_test']\n",
    "\n",
    "data = {(name):(pd.read_csv(get_path(name, 'csv'), index_col = [0,1]) if name.split('_')[0] == 'X' \n",
    "                else pd.read_csv(get_path(name, 'csv'), index_col = 0)) for name in names }"
   ]
  },
  {
   "cell_type": "markdown",
   "metadata": {},
   "source": [
    "## DTW data\n",
    "Then, we generate the data for the dynamic time wrapping (DTW) kNN classifier.\n"
   ]
  },
  {
   "cell_type": "code",
   "execution_count": 5,
   "metadata": {
    "collapsed": true
   },
   "outputs": [],
   "source": [
    "# data for DTW kNN classifier\n",
    "data_dtw = {}\n",
    "\n",
    "for X in ['X_test', 'X_train']:\n",
    "    df = data[X]\n",
    "    data_dtw[X] = []\n",
    "    for key, value in df.groupby(level=0):\n",
    "        data_dtw[X].append(value.values)\n",
    "    data_dtw[X] = np.array(data_dtw[X])"
   ]
  },
  {
   "cell_type": "markdown",
   "metadata": {},
   "source": [
    "## Data for conventional classifiers\n",
    "\n",
    "Besides using the DTW kNN, we also use conventional classifiers to predict the in hospital death. But, first we need to extract new features from the multivariate time series and to reduce the dimensions of the data from 3D to 2D."
   ]
  },
  {
   "cell_type": "code",
   "execution_count": 6,
   "metadata": {
    "collapsed": true
   },
   "outputs": [],
   "source": [
    "# data for conventional classifiers\n",
    "data_agg = {}\n",
    "\n",
    "# extract the statistical properties such as mean, median, max, min, std for each patient using groupby in Pandas\n",
    "for name, df in data.items():\n",
    "    data_agg[name] = df.groupby('id').agg([np.median, max, min, np.mean, np.std])\n",
    "    data_agg[name].columns = ['_'.join( ( col[0], col[1])) for col in data_agg[name].columns]"
   ]
  },
  {
   "cell_type": "markdown",
   "metadata": {},
   "source": [
    "Also, we also interest on the number of data points below or above the global Q1 and Q3 for each patient. "
   ]
  },
  {
   "cell_type": "code",
   "execution_count": 7,
   "metadata": {
    "collapsed": true
   },
   "outputs": [],
   "source": [
    "# Function to count the data points belowe/above the threshold\n",
    "def count_below_threshold(array, threshold):\n",
    "    '''Count the data points that below the threshold in the time series'''\n",
    "    return np.sum(array < threshold.reshape(1,array.shape[1]), axis=0)/array.shape[0]\n",
    "\n",
    "def count_above_threshold(array, threshold):\n",
    "    '''Count the data points that above the threshold in the time series'''\n",
    "    return np.sum(array > threshold.reshape(1,array.shape[1]), axis=0)/array.shape[0]\n",
    "\n",
    "data_quartiles = {}\n",
    "\n",
    "# constants\n",
    "count_funcs = [count_below_threshold, count_above_threshold]\n",
    "column_names = ['below_Q1', 'above_Q3']\n",
    "quartiles = {key: data[\"X_train\"].quantile(value) \\\n",
    "             for (key,value) in zip(['Q1', 'Q3'], [0.25, 0.75])} # global quantiles of trainig data\n",
    "\n",
    "# Loop to greate new features and store them in data_quartiles\n",
    "for name, df in data.items():\n",
    "    if name.split('_')[0] == 'X': # Only consider the training data\n",
    "        data_quartiles[name] = {}\n",
    "        for Q, func, column in zip(['Q1', 'Q3'], count_funcs, column_names):\n",
    "            data_quartiles[name][Q] = df.groupby('id').apply(lambda x: func(x, quartiles[Q].values))\n",
    "            data_quartiles[name][Q].columns = ['_'.join( ( col, column)) for col in data_quartiles[name][Q].columns]\n",
    "            \n",
    "# Concat data_quantile into data_agg\n",
    "for name in ['X_train', 'X_test']:\n",
    "    combined_df = pd.concat( [data_quartiles[name]['Q1'], data_quartiles[name]['Q3'], data_agg[name]], axis =1)\n",
    "    data_agg[name] = combined_df"
   ]
  },
  {
   "cell_type": "markdown",
   "metadata": {
    "collapsed": true
   },
   "source": [
    "## Calculation the benchmark scores"
   ]
  },
  {
   "cell_type": "code",
   "execution_count": 8,
   "metadata": {},
   "outputs": [
    {
     "name": "stdout",
     "output_type": "stream",
     "text": [
      "The F1 score and MCC of the benchmark of testing data are: 0.3713768115942029, 0.28981016250795055\n",
      "The F1 score and MCC of the naive perdictor are: 0.2189239332096475, 0.0\n"
     ]
    },
    {
     "name": "stderr",
     "output_type": "stream",
     "text": [
      "C:\\Users\\richa\\Anaconda3\\envs\\mlnd_cp\\lib\\site-packages\\sklearn\\metrics\\classification.py:538: RuntimeWarning: invalid value encountered in true_divide\n",
      "  mcc = cov_ytyp / np.sqrt(cov_ytyt * cov_ypyp)\n"
     ]
    }
   ],
   "source": [
    "from sklearn.metrics import f1_score, matthews_corrcoef\n",
    "\n",
    "# store the scores into a dictionary\n",
    "score_metrics = {'f1': f1_score, 'mcc': matthews_corrcoef}\n",
    "\n",
    "# create the score for benchmark\n",
    "score_benchmark = {}\n",
    "\n",
    "# performance of benchmark\n",
    "for name, func in score_metrics.items():\n",
    "    score_benchmark[name+'_test'] = func(data['y_test']['in_hospital_death'], data['y_test']['sapsii_prediction'])\n",
    "    score_benchmark[name+'_train'] = func(data['y_train']['in_hospital_death'], data['y_train']['sapsii_prediction'])\n",
    "\n",
    "print(\"The F1 score and MCC of the benchmark of testing data are: {}, {}\".format(score_benchmark['f1_test'], \n",
    "                                                                                 score_benchmark['mcc_test']))\n",
    "\n",
    "# performance of naive learner\n",
    "score_naive = {}\n",
    "# on the subset of testing samples\n",
    "score_naive['f1_test'] = f1_score(data['y_test']['in_hospital_death'][:480], np.ones( (480,) ))\n",
    "score_naive['mcc_test'] = matthews_corrcoef(data['y_test']['in_hospital_death'][:480], np.ones( (480,) ))\n",
    "\n",
    "print(\"The F1 score and MCC of the naive perdictor are: {}, {}\".format(score_naive['f1_test'], score_naive['mcc_test']))"
   ]
  },
  {
   "cell_type": "markdown",
   "metadata": {},
   "source": [
    "## Prediction with DTW kNN classifier\n",
    "\n",
    "Here, this is the first attempt to train the learner as a DTW with KNN classifier."
   ]
  },
  {
   "cell_type": "code",
   "execution_count": 52,
   "metadata": {},
   "outputs": [
    {
     "data": {
      "text/plain": [
       "{'f1_test': 0.27499999999999997,\n",
       " 'mcc_test': 0.26115948683576662,\n",
       " 'pred_time': 2243.833170413971,\n",
       " 'train_time': 0.0030078887939453125}"
      ]
     },
     "execution_count": 52,
     "metadata": {},
     "output_type": "execute_result"
    }
   ],
   "source": [
    "results = {}\n",
    "\n",
    "# Custom metric\n",
    "def dtw_metric(a,b):\n",
    "    similarity, _ = dtw.dynamic_time_wraping(a,b, distance.euclidean)\n",
    "    return similarity\n",
    "\n",
    "# initize the classifier\n",
    "dtw_kNN_clf = KNN.KNNClassifier(metric=dtw_metric)\n",
    "\n",
    "# First, we start with 1922 training samples since kNN is a slow classifier\n",
    "start = time() # Get start time\n",
    "dtw_kNN_clf.fit(data_dtw['X_train'][:1922], data['y_train']['in_hospital_death'][:1922])\n",
    "end = time() # Get end time\n",
    "    \n",
    "# Record the training time\n",
    "results['train_time'] = end - start\n",
    "    \n",
    "# Make predictions on train subset (with the size of test set) and test set\n",
    "start = time() # Get start time\n",
    "predictions_test = dtw_kNN_clf.predict(data_dtw['X_test'][:480])\n",
    "end = time() # Get end time\n",
    "results['pred_time'] = end - start\n",
    "            \n",
    "# Compute F-score on the train subset and test set\n",
    "for name, func in score_metrics.items():\n",
    "    results[name+'_test'] = func(data['y_test']['in_hospital_death'][:480], predictions_test)\n",
    "        \n",
    "# Return the results\n",
    "results"
   ]
  },
  {
   "cell_type": "markdown",
   "metadata": {},
   "source": [
    "The results suggest the DTW kNN classifier is computational expensive. Its performance is also not very promising."
   ]
  },
  {
   "cell_type": "markdown",
   "metadata": {
    "collapsed": true
   },
   "source": [
    "## Prediction with conventional classifiers\n",
    "\n",
    "The second attempt in this project is to use usual classification methods such as logistic regression. In this project, logistic regression, decision tree, gradient boost, and multilayer perceptron classifiers are used. "
   ]
  },
  {
   "cell_type": "code",
   "execution_count": 13,
   "metadata": {
    "collapsed": true
   },
   "outputs": [],
   "source": [
    "def train_predict(learner, sample_size, X_train, y_train, X_test, y_test, metrics): \n",
    "    '''\n",
    "    inputs:\n",
    "       - learner: the learning algorithm to be trained and predicted on\n",
    "       - sample_size: the size of samples (number) to be drawn from training set\n",
    "       - X_train: features training set\n",
    "       - y_train: income training set\n",
    "       - X_test: features testing set\n",
    "       - y_test: income testing set\n",
    "       - metrics: dictionary to store the metrics \n",
    "    '''\n",
    "    results = {}\n",
    "    \n",
    "    # Fit the learner to the training data using slicing with 'sample_size'\n",
    "    start = time() # Get start time\n",
    "    learner.fit(X_train[:sample_size], y_train[:sample_size])\n",
    "    end = time() # Get end time\n",
    "    \n",
    "    # Record the training time\n",
    "    results['train_time'] = end - start\n",
    "    \n",
    "    # Make predictions on train data\n",
    "    start = time() # Get start time\n",
    "    predictions_test = learner.predict(X_test)\n",
    "    predictions_train = learner.predict(X_train)\n",
    "    end = time() # Get end time\n",
    "    results['pred_time'] = end - start\n",
    "    \n",
    "    for score, func in metrics.items():\n",
    "    # Compute score on the train subset and test set\n",
    "        results[score+\"_train\"] = func(y_train, predictions_train)\n",
    "        results[score+\"_test\"] = func(y_test, predictions_test)\n",
    "    \n",
    "    # Success\n",
    "    print(\"{} trained on {} samples.\".format(learner.__class__.__name__, sample_size))\n",
    "        \n",
    "    # Return the results\n",
    "    return results"
   ]
  },
  {
   "cell_type": "markdown",
   "metadata": {},
   "source": [
    "### Initial training"
   ]
  },
  {
   "cell_type": "code",
   "execution_count": 16,
   "metadata": {
    "scrolled": false
   },
   "outputs": [
    {
     "name": "stdout",
     "output_type": "stream",
     "text": [
      "LogisticRegression trained on 192 samples.\n",
      "LogisticRegression trained on 1922 samples.\n",
      "LogisticRegression trained on 19220 samples.\n",
      "DecisionTreeClassifier trained on 192 samples.\n",
      "DecisionTreeClassifier trained on 1922 samples.\n",
      "DecisionTreeClassifier trained on 19220 samples.\n",
      "GradientBoostingClassifier trained on 192 samples.\n",
      "GradientBoostingClassifier trained on 1922 samples.\n",
      "GradientBoostingClassifier trained on 19220 samples.\n"
     ]
    },
    {
     "name": "stderr",
     "output_type": "stream",
     "text": [
      "C:\\Users\\richa\\Anaconda3\\envs\\mlnd_cp\\lib\\site-packages\\sklearn\\metrics\\classification.py:538: RuntimeWarning: invalid value encountered in true_divide\n",
      "  mcc = cov_ytyp / np.sqrt(cov_ytyt * cov_ypyp)\n",
      "C:\\Users\\richa\\Anaconda3\\envs\\mlnd_cp\\lib\\site-packages\\sklearn\\metrics\\classification.py:1135: UndefinedMetricWarning: F-score is ill-defined and being set to 0.0 due to no predicted samples.\n",
      "  'precision', 'predicted', average, warn_for)\n"
     ]
    },
    {
     "name": "stdout",
     "output_type": "stream",
     "text": [
      "KerasClassifier trained on 192 samples.\n",
      "KerasClassifier trained on 1922 samples.\n",
      "KerasClassifier trained on 19220 samples.\n"
     ]
    },
    {
     "data": {
      "image/png": "[encoded data removed]",
      "text/plain": [
       "<matplotlib.figure.Figure at 0x2d3ef41deb8>"
      ]
     },
     "metadata": {},
     "output_type": "display_data"
    }
   ],
   "source": [
    "from sklearn.linear_model import LogisticRegression\n",
    "from sklearn.tree import DecisionTreeClassifier\n",
    "from sklearn.ensemble import GradientBoostingClassifier\n",
    "from keras.models import Sequential\n",
    "from keras.layers import Dense, Dropout, Flatten\n",
    "from keras.wrappers.scikit_learn import KerasClassifier\n",
    "\n",
    "# fix random seed for reproducibility\n",
    "seed = 0\n",
    "np.random.seed(seed)\n",
    "\n",
    "# create keras wrapper\n",
    "def keras_model():\n",
    "    # create model\n",
    "    clf_MLP = Sequential()\n",
    "    clf_MLP.add(Dense(128, activation='relu', input_shape= data_agg['X_train'].shape[1:]))\n",
    "    clf_MLP.add(Dropout(0.1))\n",
    "    clf_MLP.add(Dense(32, activation='relu'))\n",
    "    clf_MLP.add(Dropout(0.1))\n",
    "    clf_MLP.add(Dense(8, activation='relu'))\n",
    "    clf_MLP.add(Dropout(0.1))\n",
    "    clf_MLP.add(Dense(1, activation='sigmoid'))\n",
    "    #clf_MLP.summary()\n",
    "    clf_MLP.compile(optimizer= 'adam', loss='binary_crossentropy')\n",
    "    return clf_MLP\n",
    "\n",
    "# Initialize the three models with default parameters\n",
    "clf_A = LogisticRegression(random_state = 0) \n",
    "clf_B = DecisionTreeClassifier(random_state = 0)\n",
    "clf_C = GradientBoostingClassifier(random_state=0)\n",
    "clf_MLP = KerasClassifier(build_fn=keras_model, verbose=0)\n",
    "\n",
    "# Calculate the number of samples for 1%, 10%, and 100% of the training data\n",
    "samples_100 = len(data['y_train'])\n",
    "samples_10 = int(round(0.1*samples_100))\n",
    "samples_1 = int(round(0.1*samples_10))\n",
    "\n",
    "# Collect results on the learners\n",
    "results = {}\n",
    "for clf in [clf_A, clf_B, clf_C, clf_MLP]:\n",
    "    clf_name = clf.__class__.__name__\n",
    "    results[clf_name] = {}\n",
    "    for i, samples in enumerate([samples_1, samples_10, samples_100]):\n",
    "        results[clf_name][i] = \\\n",
    "        train_predict(clf, samples, \n",
    "                      data_agg['X_train'].values, data['y_train']['in_hospital_death'], \n",
    "                      data_agg['X_test'].values, data['y_test']['in_hospital_death'], score_metrics)\n",
    "        \n",
    "# visualize the results\n",
    "vs.evaluate(results, score_benchmark)"
   ]
  },
  {
   "cell_type": "markdown",
   "metadata": {},
   "source": [
    "### Tuning the hyperparameters\n",
    "\n",
    "We set up a function for using sklearn GridSearch to tune the hyperparameters."
   ]
  },
  {
   "cell_type": "code",
   "execution_count": 21,
   "metadata": {
    "collapsed": true
   },
   "outputs": [],
   "source": [
    "# TODO: Import 'GridSearchCV', 'make_scorer', and any other necessary libraries\n",
    "from sklearn.model_selection import GridSearchCV\n",
    "from sklearn.metrics import make_scorer\n",
    "\n",
    "def gridsearch(clf, scorer, X_train, y_train, X_test, y_test, parameters):\n",
    "    \"\"\" apply grid search on clf \"\"\"\n",
    "    # Perform grid search on the classifier using 'scorer' as the scoring method using GridSearchCV()\n",
    "    grid_obj = GridSearchCV(estimator=clf, scoring=scorer, param_grid=parameters, cv=5)\n",
    "\n",
    "    # Fit the grid search object to the training data and find the optimal parameters using fit()\n",
    "    grid_fit = grid_obj.fit(X_train, y_train)\n",
    "\n",
    "    # Get the best estimator, parameters, and cv_results\n",
    "    best_clf = grid_fit.best_estimator_\n",
    "    best_score = grid_fit.best_score_\n",
    "    best_params = grid_fit.best_params_\n",
    "    \n",
    "    cv_results = grid_fit.cv_results_\n",
    "    means = cv_results['mean_test_score']\n",
    "    stds = cv_results['std_test_score']\n",
    "    params = cv_results['params']\n",
    "    \n",
    "    print(\"Best parameters: {}\".format(best_params))\n",
    "    print(\"Best score: {}\".format(best_score))\n",
    "    for mean, stdev, param in zip(means, stds, params):\n",
    "        print(\"mean: {:3f}, std: {:3f} for {}\".format(mean, stdev, param))\n",
    "    \n",
    "    return best_score, best_params, cv_results"
   ]
  },
  {
   "cell_type": "markdown",
   "metadata": {},
   "source": [
    "#### Tuning on gradient boost classifier."
   ]
  },
  {
   "cell_type": "code",
   "execution_count": 27,
   "metadata": {},
   "outputs": [
    {
     "name": "stdout",
     "output_type": "stream",
     "text": [
      "Best parameters: {'n_estimators': 100, 'learning_rate': 0.20000000000000001}\n",
      "Best score: 0.4918477666968708\n",
      "mean: 0.461261, std: 0.007083 for {'n_estimators': 60, 'learning_rate': 0.10000000000000001}\n",
      "mean: 0.474820, std: 0.007641 for {'n_estimators': 80, 'learning_rate': 0.10000000000000001}\n",
      "mean: 0.480903, std: 0.008068 for {'n_estimators': 100, 'learning_rate': 0.10000000000000001}\n",
      "mean: 0.482351, std: 0.018550 for {'n_estimators': 60, 'learning_rate': 0.20000000000000001}\n",
      "mean: 0.489760, std: 0.016931 for {'n_estimators': 80, 'learning_rate': 0.20000000000000001}\n",
      "mean: 0.491848, std: 0.016384 for {'n_estimators': 100, 'learning_rate': 0.20000000000000001}\n",
      "mean: 0.484245, std: 0.018319 for {'n_estimators': 60, 'learning_rate': 0.30000000000000004}\n",
      "mean: 0.487017, std: 0.013921 for {'n_estimators': 80, 'learning_rate': 0.30000000000000004}\n",
      "mean: 0.488540, std: 0.012584 for {'n_estimators': 100, 'learning_rate': 0.30000000000000004}\n"
     ]
    }
   ],
   "source": [
    "# TODO: Initialize the classifier\n",
    "clf = GradientBoostingClassifier(random_state = 0)\n",
    "\n",
    "# TODO: Make an fbeta_score scoring object using make_scorer()\n",
    "scorer = make_scorer(f1_score)\n",
    "\n",
    "# TODO: Create the parameters list you wish to tune, using a dictionary if needed.\n",
    "# we first tune the learning rate of the classifier\n",
    "learning_rate = np.arange(0.1, 0.31, 0.1)\n",
    "n_estimators = np.arange(60,101,20)\n",
    "parameters = dict(learning_rate=learning_rate, n_estimators=n_estimators)\n",
    "\n",
    "best_clf, best_predictions, cv_results = gridsearch(clf, scorer, \n",
    "                                                    data_agg['X_train'], data['y_train']['in_hospital_death'], \n",
    "                                                    data_agg['X_test'], data['y_test']['in_hospital_death'], \n",
    "                                                    parameters)"
   ]
  },
  {
   "cell_type": "code",
   "execution_count": 30,
   "metadata": {},
   "outputs": [
    {
     "name": "stdout",
     "output_type": "stream",
     "text": [
      "Best parameters: {'n_estimators': 100, 'learning_rate': 0.2, 'max_depth': 5, 'min_samples_split': 100}\n",
      "Best score: 0.506621848726305\n",
      "mean: 0.483613, std: 0.015917 for {'n_estimators': 100, 'learning_rate': 0.2, 'max_depth': 3, 'min_samples_split': 100}\n",
      "mean: 0.490540, std: 0.012502 for {'n_estimators': 100, 'learning_rate': 0.2, 'max_depth': 3, 'min_samples_split': 300}\n",
      "mean: 0.495922, std: 0.015646 for {'n_estimators': 100, 'learning_rate': 0.2, 'max_depth': 3, 'min_samples_split': 500}\n",
      "mean: 0.493662, std: 0.013974 for {'n_estimators': 100, 'learning_rate': 0.2, 'max_depth': 3, 'min_samples_split': 700}\n",
      "mean: 0.490763, std: 0.013912 for {'n_estimators': 100, 'learning_rate': 0.2, 'max_depth': 3, 'min_samples_split': 900}\n",
      "mean: 0.506622, std: 0.010116 for {'n_estimators': 100, 'learning_rate': 0.2, 'max_depth': 5, 'min_samples_split': 100}\n",
      "mean: 0.492320, std: 0.012635 for {'n_estimators': 100, 'learning_rate': 0.2, 'max_depth': 5, 'min_samples_split': 300}\n",
      "mean: 0.494381, std: 0.014968 for {'n_estimators': 100, 'learning_rate': 0.2, 'max_depth': 5, 'min_samples_split': 500}\n",
      "mean: 0.497120, std: 0.016610 for {'n_estimators': 100, 'learning_rate': 0.2, 'max_depth': 5, 'min_samples_split': 700}\n",
      "mean: 0.486150, std: 0.022247 for {'n_estimators': 100, 'learning_rate': 0.2, 'max_depth': 5, 'min_samples_split': 900}\n",
      "mean: 0.483806, std: 0.017883 for {'n_estimators': 100, 'learning_rate': 0.2, 'max_depth': 7, 'min_samples_split': 100}\n",
      "mean: 0.494407, std: 0.011931 for {'n_estimators': 100, 'learning_rate': 0.2, 'max_depth': 7, 'min_samples_split': 300}\n",
      "mean: 0.498195, std: 0.007999 for {'n_estimators': 100, 'learning_rate': 0.2, 'max_depth': 7, 'min_samples_split': 500}\n",
      "mean: 0.502011, std: 0.012686 for {'n_estimators': 100, 'learning_rate': 0.2, 'max_depth': 7, 'min_samples_split': 700}\n",
      "mean: 0.493542, std: 0.010250 for {'n_estimators': 100, 'learning_rate': 0.2, 'max_depth': 7, 'min_samples_split': 900}\n",
      "mean: 0.478151, std: 0.018033 for {'n_estimators': 100, 'learning_rate': 0.2, 'max_depth': 9, 'min_samples_split': 100}\n",
      "mean: 0.492369, std: 0.014484 for {'n_estimators': 100, 'learning_rate': 0.2, 'max_depth': 9, 'min_samples_split': 300}\n",
      "mean: 0.490212, std: 0.018919 for {'n_estimators': 100, 'learning_rate': 0.2, 'max_depth': 9, 'min_samples_split': 500}\n",
      "mean: 0.485606, std: 0.018046 for {'n_estimators': 100, 'learning_rate': 0.2, 'max_depth': 9, 'min_samples_split': 700}\n",
      "mean: 0.493646, std: 0.019446 for {'n_estimators': 100, 'learning_rate': 0.2, 'max_depth': 9, 'min_samples_split': 900}\n",
      "mean: 0.496233, std: 0.014755 for {'n_estimators': 100, 'learning_rate': 0.2, 'max_depth': 11, 'min_samples_split': 100}\n",
      "mean: 0.487605, std: 0.019224 for {'n_estimators': 100, 'learning_rate': 0.2, 'max_depth': 11, 'min_samples_split': 300}\n",
      "mean: 0.496153, std: 0.013994 for {'n_estimators': 100, 'learning_rate': 0.2, 'max_depth': 11, 'min_samples_split': 500}\n",
      "mean: 0.494999, std: 0.013396 for {'n_estimators': 100, 'learning_rate': 0.2, 'max_depth': 11, 'min_samples_split': 700}\n",
      "mean: 0.479594, std: 0.019236 for {'n_estimators': 100, 'learning_rate': 0.2, 'max_depth': 11, 'min_samples_split': 900}\n"
     ]
    }
   ],
   "source": [
    "# learning rate = 0.2 in this case\n",
    "clf = GradientBoostingClassifier(random_state = 0)\n",
    "\n",
    "learning_rate = [0.2]\n",
    "n_estimators = [100]\n",
    "max_depth = np.arange(3, 12, 2)\n",
    "min_samples_split = np.arange(100, 1001, 200)\n",
    "\n",
    "parameters = dict(learning_rate=learning_rate, n_estimators=n_estimators, \n",
    "                  max_depth=max_depth, min_samples_split=min_samples_split)\n",
    "\n",
    "best_clf, best_predictions, cv_results = gridsearch(clf, scorer, \n",
    "                                        data_agg['X_train'], data['y_train']['in_hospital_death'], \n",
    "                                        data_agg['X_test'], data['y_test']['in_hospital_death'], \n",
    "                                        parameters)"
   ]
  },
  {
   "cell_type": "code",
   "execution_count": 33,
   "metadata": {},
   "outputs": [
    {
     "name": "stdout",
     "output_type": "stream",
     "text": [
      "Best parameters: {'n_estimators': 100, 'learning_rate': 0.2, 'min_samples_leaf': 1, 'max_depth': 5, 'min_samples_split': 100}\n",
      "Best score: 0.506621848726305\n",
      "mean: 0.506622, std: 0.010116 for {'n_estimators': 100, 'learning_rate': 0.2, 'min_samples_leaf': 1, 'max_depth': 5, 'min_samples_split': 100}\n",
      "mean: 0.501289, std: 0.021659 for {'n_estimators': 100, 'learning_rate': 0.2, 'min_samples_leaf': 21, 'max_depth': 5, 'min_samples_split': 100}\n",
      "mean: 0.493081, std: 0.010773 for {'n_estimators': 100, 'learning_rate': 0.2, 'min_samples_leaf': 41, 'max_depth': 5, 'min_samples_split': 100}\n",
      "mean: 0.493425, std: 0.021709 for {'n_estimators': 100, 'learning_rate': 0.2, 'min_samples_leaf': 61, 'max_depth': 5, 'min_samples_split': 100}\n"
     ]
    }
   ],
   "source": [
    "# learning rate = 0.25 in this case\n",
    "clf = GradientBoostingClassifier(random_state = 0)\n",
    "\n",
    "learning_rate = [0.2]\n",
    "n_estimators = [100]\n",
    "max_depth = [5]\n",
    "min_samples_split = [100]\n",
    "min_samples_leaf = np.arange(1, 81, 20)\n",
    "\n",
    "parameters = dict(learning_rate=learning_rate, n_estimators=n_estimators, \n",
    "                  max_depth=max_depth, min_samples_split=min_samples_split,\n",
    "                  min_samples_leaf=min_samples_leaf)\n",
    "\n",
    "best_clf, best_predictions, cv_results = gridsearch(clf, scorer, \n",
    "                                        data_agg['X_train'], data['y_train']['in_hospital_death'], \n",
    "                                        data_agg['X_test'], data['y_test']['in_hospital_death'], \n",
    "                                        parameters)"
   ]
  },
  {
   "cell_type": "markdown",
   "metadata": {},
   "source": [
    "Using the tuned parameters to predict the in hospital death."
   ]
  },
  {
   "cell_type": "code",
   "execution_count": 40,
   "metadata": {},
   "outputs": [
    {
     "name": "stdout",
     "output_type": "stream",
     "text": [
      "tuned gradient boost: {'f1_test': 0.48437500000000006, 'mcc_test': 0.44859942638115508}\n"
     ]
    }
   ],
   "source": [
    "tuned_GB_clf = GradientBoostingClassifier(random_state = 0, learning_rate=0.2, n_estimators=100, \n",
    "                                          max_depth=5, min_samples_split=100, min_samples_leaf=1)\n",
    "\n",
    "tuned_GB_clf.fit(data_agg['X_train'].values, data['y_train']['in_hospital_death'])\n",
    "\n",
    "predictions_test = tuned_GB_clf.predict(data_agg['X_test'].values)\n",
    "    \n",
    "tuned_GB_clf_results = {}\n",
    "for score, func in score_metrics.items():\n",
    "# Compute score on the train subset and test set\n",
    "    tuned_GB_clf_results[score+\"_test\"] = func(data['y_test']['in_hospital_death'], predictions_test)\n",
    "    \n",
    "print('tuned gradient boost:', tuned_GB_clf_results)"
   ]
  },
  {
   "cell_type": "markdown",
   "metadata": {},
   "source": [
    "#### Tuning for the Keras MLP classifier"
   ]
  },
  {
   "cell_type": "code",
   "execution_count": 22,
   "metadata": {
    "scrolled": false
   },
   "outputs": [
    {
     "name": "stdout",
     "output_type": "stream",
     "text": [
      "Best parameters: {'epochs': 50, 'batch_size': 512}\n",
      "Best score: 0.4950926384628995\n",
      "mean: 0.480570, std: 0.038959 for {'epochs': 10, 'batch_size': 32}\n",
      "mean: 0.454648, std: 0.018061 for {'epochs': 50, 'batch_size': 32}\n",
      "mean: 0.474287, std: 0.021513 for {'epochs': 100, 'batch_size': 32}\n",
      "mean: 0.436764, std: 0.073502 for {'epochs': 10, 'batch_size': 256}\n",
      "mean: 0.491214, std: 0.024468 for {'epochs': 50, 'batch_size': 256}\n",
      "mean: 0.468831, std: 0.025673 for {'epochs': 100, 'batch_size': 256}\n",
      "mean: 0.445976, std: 0.016769 for {'epochs': 10, 'batch_size': 512}\n",
      "mean: 0.495093, std: 0.024031 for {'epochs': 50, 'batch_size': 512}\n",
      "mean: 0.481827, std: 0.018898 for {'epochs': 100, 'batch_size': 512}\n"
     ]
    }
   ],
   "source": [
    "# fix random seed for reproducibility\n",
    "seed = 0\n",
    "np.random.seed(seed)\n",
    "\n",
    "# create keras wrapper\n",
    "def keras_model():\n",
    "    clf_MLP = Sequential()\n",
    "    clf_MLP.add(Dense(128, activation='relu', input_shape= data_agg['X_train'].shape[1:]))\n",
    "    clf_MLP.add(Dropout(0.1))\n",
    "    clf_MLP.add(Dense(32, activation='relu'))\n",
    "    clf_MLP.add(Dropout(0.1))\n",
    "    clf_MLP.add(Dense(8, activation='relu'))\n",
    "    clf_MLP.add(Dropout(0.1))\n",
    "    clf_MLP.add(Dense(1, activation='sigmoid'))\n",
    "    clf_MLP.compile(optimizer= 'adam', loss='binary_crossentropy')\n",
    "    return clf_MLP\n",
    "\n",
    "clf = KerasClassifier(build_fn=keras_model, verbose=0)\n",
    "\n",
    "# Make an f1_score scoring object using make_scorer()\n",
    "scorer = make_scorer(f1_score)\n",
    "\n",
    "# define the grid search parameters\n",
    "batch_size = [32, 256, 512]\n",
    "epochs = [10, 50, 100]\n",
    "parameters = dict(batch_size=batch_size, epochs=epochs)\n",
    "\n",
    "best_clf, best_predictions, cv_results = gridsearch(clf, scorer, \n",
    "                                        data_agg['X_train'].values, data['y_train']['in_hospital_death'], \n",
    "                                        data_agg['X_test'].values, data['y_test']['in_hospital_death'], \n",
    "                                        parameters)"
   ]
  },
  {
   "cell_type": "code",
   "execution_count": 24,
   "metadata": {},
   "outputs": [
    {
     "name": "stderr",
     "output_type": "stream",
     "text": [
      "C:\\Users\\richa\\Anaconda3\\envs\\mlnd_cp\\lib\\site-packages\\sklearn\\metrics\\classification.py:1135: UndefinedMetricWarning: F-score is ill-defined and being set to 0.0 due to no predicted samples.\n",
      "  'precision', 'predicted', average, warn_for)\n"
     ]
    },
    {
     "name": "stdout",
     "output_type": "stream",
     "text": [
      "Best parameters: {'init_mode': 'glorot_uniform'}\n",
      "Best score: 0.49663501996356824\n",
      "mean: 0.447560, std: 0.034332 for {'init_mode': 'uniform'}\n",
      "mean: 0.472822, std: 0.030922 for {'init_mode': 'lecun_uniform'}\n",
      "mean: 0.458059, std: 0.026058 for {'init_mode': 'normal'}\n",
      "mean: 0.000000, std: 0.000000 for {'init_mode': 'zero'}\n",
      "mean: 0.471031, std: 0.012727 for {'init_mode': 'glorot_normal'}\n",
      "mean: 0.496635, std: 0.037908 for {'init_mode': 'glorot_uniform'}\n",
      "mean: 0.458163, std: 0.008510 for {'init_mode': 'he_normal'}\n",
      "mean: 0.487093, std: 0.019711 for {'init_mode': 'he_uniform'}\n"
     ]
    }
   ],
   "source": [
    "# fix random seed for reproducibility\n",
    "seed = 0\n",
    "np.random.seed(seed)\n",
    "\n",
    "# create model\n",
    "def keras_model(init_mode='zero'):\n",
    "    clf_MLP = Sequential()\n",
    "    clf_MLP.add(Dense(128, kernel_initializer=init_mode, activation='relu', input_shape= data_agg['X_train'].shape[1:]))\n",
    "    clf_MLP.add(Dropout(0.1))\n",
    "    clf_MLP.add(Dense(32, kernel_initializer=init_mode, activation='relu'))\n",
    "    clf_MLP.add(Dropout(0.1))\n",
    "    clf_MLP.add(Dense(8, kernel_initializer=init_mode, activation='relu'))\n",
    "    clf_MLP.add(Dropout(0.1))\n",
    "    clf_MLP.add(Dense(1, kernel_initializer=init_mode, activation='sigmoid'))\n",
    "    clf_MLP.compile(optimizer='adam', loss='binary_crossentropy')\n",
    "    return clf_MLP\n",
    "\n",
    "clf = KerasClassifier(build_fn=keras_model, verbose=0, epochs=50, batch_size=512)\n",
    "\n",
    "# Make an f1_score scoring object using make_scorer()\n",
    "scorer = make_scorer(f1_score)\n",
    "\n",
    "# define the grid search parameters\n",
    "init_mode = ['uniform', 'lecun_uniform', 'normal', 'zero', 'glorot_normal', 'glorot_uniform', 'he_normal', 'he_uniform']\n",
    "parameters = dict(init_mode=init_mode)\n",
    "\n",
    "best_clf, best_predictions, cv_results = gridsearch(clf, scorer, \n",
    "                                        data_agg['X_train'].values, data['y_train']['in_hospital_death'], \n",
    "                                        data_agg['X_test'].values, data['y_test']['in_hospital_death'], \n",
    "                                        parameters)\n"
   ]
  },
  {
   "cell_type": "markdown",
   "metadata": {},
   "source": [
    "'glorot_uniform' is the default setting in Keras. "
   ]
  },
  {
   "cell_type": "code",
   "execution_count": 25,
   "metadata": {},
   "outputs": [
    {
     "name": "stdout",
     "output_type": "stream",
     "text": [
      "Epoch 1/50\n",
      "19220/19220 [==============================] - 1s - loss: 0.4054     \n",
      "Epoch 2/50\n",
      "19220/19220 [==============================] - 0s - loss: 0.2994     \n",
      "Epoch 3/50\n",
      "19220/19220 [==============================] - 0s - loss: 0.2745     \n",
      "Epoch 4/50\n",
      "19220/19220 [==============================] - 0s - loss: 0.2671     \n",
      "Epoch 5/50\n",
      "19220/19220 [==============================] - 0s - loss: 0.2637     \n",
      "Epoch 6/50\n",
      "19220/19220 [==============================] - 0s - loss: 0.2593     \n",
      "Epoch 7/50\n",
      "19220/19220 [==============================] - 0s - loss: 0.2569     \n",
      "Epoch 8/50\n",
      "19220/19220 [==============================] - 0s - loss: 0.2561     \n",
      "Epoch 9/50\n",
      "19220/19220 [==============================] - 0s - loss: 0.2547     \n",
      "Epoch 10/50\n",
      "19220/19220 [==============================] - 0s - loss: 0.2509     \n",
      "Epoch 11/50\n",
      "19220/19220 [==============================] - 0s - loss: 0.2502     \n",
      "Epoch 12/50\n",
      "19220/19220 [==============================] - 0s - loss: 0.2515     \n",
      "Epoch 13/50\n",
      "19220/19220 [==============================] - 0s - loss: 0.2500     \n",
      "Epoch 14/50\n",
      "19220/19220 [==============================] - 0s - loss: 0.2474     \n",
      "Epoch 15/50\n",
      "19220/19220 [==============================] - 0s - loss: 0.2465     \n",
      "Epoch 16/50\n",
      "19220/19220 [==============================] - 0s - loss: 0.2473     \n",
      "Epoch 17/50\n",
      "19220/19220 [==============================] - 0s - loss: 0.2434     \n",
      "Epoch 18/50\n",
      "19220/19220 [==============================] - 0s - loss: 0.2413     \n",
      "Epoch 19/50\n",
      "19220/19220 [==============================] - 0s - loss: 0.2376     \n",
      "Epoch 20/50\n",
      "19220/19220 [==============================] - 0s - loss: 0.2384     \n",
      "Epoch 21/50\n",
      "19220/19220 [==============================] - 0s - loss: 0.2363     \n",
      "Epoch 22/50\n",
      "19220/19220 [==============================] - 0s - loss: 0.2333     \n",
      "Epoch 23/50\n",
      "19220/19220 [==============================] - 0s - loss: 0.2319     \n",
      "Epoch 24/50\n",
      "19220/19220 [==============================] - 0s - loss: 0.2306     \n",
      "Epoch 25/50\n",
      "19220/19220 [==============================] - 0s - loss: 0.2323     \n",
      "Epoch 26/50\n",
      "19220/19220 [==============================] - 0s - loss: 0.2287     \n",
      "Epoch 27/50\n",
      "19220/19220 [==============================] - 0s - loss: 0.2298     \n",
      "Epoch 28/50\n",
      "19220/19220 [==============================] - 0s - loss: 0.2258     \n",
      "Epoch 29/50\n",
      "19220/19220 [==============================] - 0s - loss: 0.2263     \n",
      "Epoch 30/50\n",
      "19220/19220 [==============================] - 0s - loss: 0.2244     \n",
      "Epoch 31/50\n",
      "19220/19220 [==============================] - 0s - loss: 0.2233     \n",
      "Epoch 32/50\n",
      "19220/19220 [==============================] - 0s - loss: 0.2211     \n",
      "Epoch 33/50\n",
      "19220/19220 [==============================] - 0s - loss: 0.2183     \n",
      "Epoch 34/50\n",
      "19220/19220 [==============================] - 0s - loss: 0.2203     \n",
      "Epoch 35/50\n",
      "19220/19220 [==============================] - 0s - loss: 0.2193     \n",
      "Epoch 36/50\n",
      "19220/19220 [==============================] - 0s - loss: 0.2155     \n",
      "Epoch 37/50\n",
      "19220/19220 [==============================] - 0s - loss: 0.2146     \n",
      "Epoch 38/50\n",
      "19220/19220 [==============================] - 0s - loss: 0.2157     - ETA: 0s - loss: 0\n",
      "Epoch 39/50\n",
      "19220/19220 [==============================] - 0s - loss: 0.2139     \n",
      "Epoch 40/50\n",
      "19220/19220 [==============================] - 0s - loss: 0.2111     \n",
      "Epoch 41/50\n",
      "19220/19220 [==============================] - 0s - loss: 0.2148     \n",
      "Epoch 42/50\n",
      "19220/19220 [==============================] - 0s - loss: 0.2092     \n",
      "Epoch 43/50\n",
      "19220/19220 [==============================] - 0s - loss: 0.2076     \n",
      "Epoch 44/50\n",
      "19220/19220 [==============================] - 0s - loss: 0.2101     \n",
      "Epoch 45/50\n",
      "19220/19220 [==============================] - 0s - loss: 0.2069     \n",
      "Epoch 46/50\n",
      "19220/19220 [==============================] - 0s - loss: 0.2023     \n",
      "Epoch 47/50\n",
      "19220/19220 [==============================] - 0s - loss: 0.2033     \n",
      "Epoch 48/50\n",
      "19220/19220 [==============================] - 0s - loss: 0.2043     \n",
      "Epoch 49/50\n",
      "19220/19220 [==============================] - 0s - loss: 0.2022     \n",
      "Epoch 50/50\n",
      "19220/19220 [==============================] - 0s - loss: 0.1987     \n",
      "tuned MLP: {'f1_test': 0.4851157662624036, 'mcc_test': 0.44651962738636919}\n"
     ]
    }
   ],
   "source": [
    "# fix random seed for reproducibility\n",
    "seed = 0\n",
    "np.random.seed(seed)\n",
    "\n",
    "# create model\n",
    "tuned_MLP_clf = Sequential()\n",
    "tuned_MLP_clf.add(Dense(128, activation='relu', input_shape= data_agg['X_train'].shape[1:]))\n",
    "tuned_MLP_clf.add(Dropout(0.1))\n",
    "tuned_MLP_clf.add(Dense(32, activation='relu'))\n",
    "tuned_MLP_clf.add(Dropout(0.1))\n",
    "tuned_MLP_clf.add(Dense(8, activation='relu'))\n",
    "tuned_MLP_clf.add(Dropout(0.1))\n",
    "tuned_MLP_clf.add(Dense(1, activation='sigmoid'))\n",
    "tuned_MLP_clf.compile(optimizer='adam', loss='binary_crossentropy')\n",
    "\n",
    "# train the model\n",
    "if not os.path.exists('data'):\n",
    "    os.makedirs('data')\n",
    "tuned_MLP_clf.fit(data_agg['X_train'].values, data['y_train']['in_hospital_death'],\n",
    "                  batch_size=512, epochs=50, verbose=1, shuffle=True)\n",
    "\n",
    "# predict the labels\n",
    "predictions_test = tuned_MLP_clf.predict(data_agg['X_test'].values) > 0.5\n",
    "\n",
    "# record the results\n",
    "tuned_MLP_clf_results = {}\n",
    "for score, func in score_metrics.items():\n",
    "    tuned_MLP_clf_results[score+\"_test\"] = func(data['y_test']['in_hospital_death'], predictions_test)\n",
    "    \n",
    "print('tuned MLP:', tuned_MLP_clf_results)"
   ]
  },
  {
   "cell_type": "markdown",
   "metadata": {},
   "source": [
    "## Feature importance\n",
    "\n",
    "We want ot know how the feature related with the in hospital death. "
   ]
  },
  {
   "cell_type": "code",
   "execution_count": 27,
   "metadata": {},
   "outputs": [
    {
     "data": {
      "image/png": "[encoded data removed]",
      "text/plain": [
       "<matplotlib.figure.Figure at 0x2d3a0b81128>"
      ]
     },
     "metadata": {},
     "output_type": "display_data"
    }
   ],
   "source": [
    "# Train the supervised model on the training set using .fit(X_train, y_train)\n",
    "model = GradientBoostingClassifier(random_state = 0, learning_rate=0.2, n_estimators=100, \n",
    "                                   max_depth=5, min_samples_split=100, min_samples_leaf=1)\n",
    "\n",
    "model.fit(data_agg['X_train'], data['y_train']['in_hospital_death'])\n",
    "\n",
    "# Extract the feature importances using .feature_importances_ \n",
    "importances = model.feature_importances_\n",
    "\n",
    "# Plot\n",
    "vs.feature_plot(importances, data_agg['X_train'], data['y_train']['in_hospital_death'])"
   ]
  },
  {
   "cell_type": "code",
   "execution_count": null,
   "metadata": {
    "collapsed": true
   },
   "outputs": [],
   "source": []
  }
 ],
 "metadata": {
  "anaconda-cloud": {},
  "kernelspec": {
   "display_name": "Python 3",
   "language": "python",
   "name": "python3"
  },
  "language_info": {
   "codemirror_mode": {
    "name": "ipython",
    "version": 3
   },
   "file_extension": ".py",
   "mimetype": "text/x-python",
   "name": "python",
   "nbconvert_exporter": "python",
   "pygments_lexer": "ipython3",
   "version": "3.5.4"
  }
 },
 "nbformat": 4,
 "nbformat_minor": 1
}
